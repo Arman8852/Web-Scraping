{
  "nbformat": 4,
  "nbformat_minor": 0,
  "metadata": {
    "colab": {
      "name": "RegEx.ipynb",
      "provenance": [],
      "collapsed_sections": []
    },
    "kernelspec": {
      "name": "python3",
      "display_name": "Python 3"
    },
    "language_info": {
      "name": "python"
    }
  },
  "cells": [
    {
      "cell_type": "markdown",
      "source": [
        "Import Library"
      ],
      "metadata": {
        "id": "y1t3miTATj_Z"
      }
    },
    {
      "cell_type": "code",
      "source": [
        "##import regular expression library\n",
        "import re\n",
        "!pip install requests\n",
        "!pip install beautifulsoup4"
      ],
      "metadata": {
        "colab": {
          "base_uri": "https://localhost:8080/"
        },
        "id": "Wy8CalmXTogG",
        "outputId": "8411ebfb-0ea0-498c-c4d0-545ef5449ffc"
      },
      "execution_count": 1,
      "outputs": [
        {
          "output_type": "stream",
          "name": "stdout",
          "text": [
            "Requirement already satisfied: requests in /usr/local/lib/python3.7/dist-packages (2.23.0)\n",
            "Requirement already satisfied: idna<3,>=2.5 in /usr/local/lib/python3.7/dist-packages (from requests) (2.10)\n",
            "Requirement already satisfied: chardet<4,>=3.0.2 in /usr/local/lib/python3.7/dist-packages (from requests) (3.0.4)\n",
            "Requirement already satisfied: urllib3!=1.25.0,!=1.25.1,<1.26,>=1.21.1 in /usr/local/lib/python3.7/dist-packages (from requests) (1.24.3)\n",
            "Requirement already satisfied: certifi>=2017.4.17 in /usr/local/lib/python3.7/dist-packages (from requests) (2021.10.8)\n",
            "Requirement already satisfied: beautifulsoup4 in /usr/local/lib/python3.7/dist-packages (4.6.3)\n"
          ]
        }
      ]
    },
    {
      "cell_type": "markdown",
      "source": [
        "Search Function"
      ],
      "metadata": {
        "id": "sn21hEl2TKcS"
      }
    },
    {
      "cell_type": "code",
      "execution_count": 2,
      "metadata": {
        "colab": {
          "base_uri": "https://localhost:8080/"
        },
        "id": "7TgfSs6_TECB",
        "outputId": "02ef3262-ed30-438e-ba92-7a322628498e"
      },
      "outputs": [
        {
          "output_type": "stream",
          "name": "stdout",
          "text": [
            "We have found Data Science in the text!!!!\n"
          ]
        }
      ],
      "source": [
        "text = 'Data Science is fun to learn'\n",
        "\n",
        "if re.search('Data Science', text):\n",
        "\n",
        "  print('We have found Data Science in the text!!!!')\n",
        "\n",
        "else:\n",
        "\n",
        "  print('Alas!!! We did not find Data Science in the text')"
      ]
    },
    {
      "cell_type": "markdown",
      "source": [
        "Split Function"
      ],
      "metadata": {
        "id": "J2uCEx3xUee4"
      }
    },
    {
      "cell_type": "code",
      "source": [
        "text = 'Machine Learning is very easy to learn. Machine Learning has a lot of algorithms. I love to learn Machine Learning and Data Science!!!'\n",
        "\n",
        "split = 'Machine Learning'\n",
        "\n",
        "re.split(split, text)"
      ],
      "metadata": {
        "colab": {
          "base_uri": "https://localhost:8080/"
        },
        "id": "ezAJ6wJbTf78",
        "outputId": "25370e7b-599a-4897-f6d5-04e4e607c03d"
      },
      "execution_count": 3,
      "outputs": [
        {
          "output_type": "execute_result",
          "data": {
            "text/plain": [
              "['',\n",
              " ' is very easy to learn. ',\n",
              " ' has a lot of algorithms. I love to learn ',\n",
              " ' and Data Science!!!']"
            ]
          },
          "metadata": {},
          "execution_count": 3
        }
      ]
    },
    {
      "cell_type": "markdown",
      "source": [
        "Find All Function"
      ],
      "metadata": {
        "id": "97IgbGzYVLZk"
      }
    },
    {
      "cell_type": "code",
      "source": [
        "find = 'Machine Learning'\n",
        "\n",
        "re.findall(find, text)"
      ],
      "metadata": {
        "colab": {
          "base_uri": "https://localhost:8080/"
        },
        "id": "wNuvkVcNVKxP",
        "outputId": "26364f4a-a896-4224-edea-e800352d1b95"
      },
      "execution_count": 4,
      "outputs": [
        {
          "output_type": "execute_result",
          "data": {
            "text/plain": [
              "['Machine Learning', 'Machine Learning', 'Machine Learning']"
            ]
          },
          "metadata": {},
          "execution_count": 4
        }
      ]
    },
    {
      "cell_type": "markdown",
      "source": [
        "Anchors"
      ],
      "metadata": {
        "id": "FrQLuD8tVpuN"
      }
    },
    {
      "cell_type": "code",
      "source": [
        "##Anchors specify the start and end of the string that we are trying to match\n",
        "\n",
        "##The caret character ^ means the start \n",
        "\n",
        "##The dollar character $ means the end \n",
        "\n",
        "##Let' see if the text starts with the string Data Science\n",
        "\n",
        "\n",
        "text = 'Data Science is fun to learn'\n",
        "\n",
        "re.search('^Data Science', text)"
      ],
      "metadata": {
        "colab": {
          "base_uri": "https://localhost:8080/"
        },
        "id": "x6JCGeh4VsNg",
        "outputId": "b069e2ab-6d39-4fd7-9dc5-4213f6ccf5b9"
      },
      "execution_count": 5,
      "outputs": [
        {
          "output_type": "execute_result",
          "data": {
            "text/plain": [
              "<re.Match object; span=(0, 12), match='Data Science'>"
            ]
          },
          "metadata": {},
          "execution_count": 5
        }
      ]
    },
    {
      "cell_type": "markdown",
      "source": [
        "Patterns and Character Classes"
      ],
      "metadata": {
        "id": "mySTmNd-W2yt"
      }
    },
    {
      "cell_type": "code",
      "source": [
        "grades = 'AAAAABBBAAABCCCCAACAB'\n",
        "\n",
        "pattern_1 = '[A][B-C]'\n",
        "\n",
        "#match any pattern where a single A is followed by a single B or Single C\n",
        "\n",
        "print('Using the first pattern:') \n",
        "\n",
        "print(re.findall(pattern_1, grades),'\\n')\n",
        "\n",
        "\n",
        "##the same pattern can also be written using a pipe opeartor (|)\n",
        "\n",
        "pattern_2 = 'AB|AC'\n",
        "\n",
        "print('Using the second pattern:')\n",
        "\n",
        "print(re.findall(pattern_2, grades))"
      ],
      "metadata": {
        "colab": {
          "base_uri": "https://localhost:8080/"
        },
        "id": "xZ8cHY6lW6ie",
        "outputId": "cb364bd2-1ae6-4d6f-efc0-31c7f4a87533"
      },
      "execution_count": 6,
      "outputs": [
        {
          "output_type": "stream",
          "name": "stdout",
          "text": [
            "Using the first pattern:\n",
            "['AB', 'AB', 'AC', 'AB'] \n",
            "\n",
            "Using the second pattern:\n",
            "['AB', 'AB', 'AC', 'AB']\n"
          ]
        }
      ]
    },
    {
      "cell_type": "code",
      "source": [
        "#We can use the combination of carat ^ and set opeartor [] to nagate our results\n",
        "\n",
        "##set opeartor are using character based matching in an  OR method\n",
        "\n",
        "pattern = '[^A]'\n",
        "\n",
        "#using the pattern will return all the grades except for A's\n",
        "\n",
        "re.findall(pattern, grades)\n",
        "\n",
        "##Note: The caret opeartor used alone means the starting or beginning of a string. But it has changed its meaning when we have used it inside the set oprator.\n",
        "##Other special characters will also change their meaning when being used inside the set operators. "
      ],
      "metadata": {
        "colab": {
          "base_uri": "https://localhost:8080/"
        },
        "id": "vh4JiIhRZ4Vg",
        "outputId": "6d17d537-560b-4ec4-ccbb-fa78e353906b"
      },
      "execution_count": 7,
      "outputs": [
        {
          "output_type": "execute_result",
          "data": {
            "text/plain": [
              "['B', 'B', 'B', 'B', 'C', 'C', 'C', 'C', 'C', 'B']"
            ]
          },
          "metadata": {},
          "execution_count": 7
        }
      ]
    },
    {
      "cell_type": "code",
      "source": [
        "pattern = '^[^A]'\n",
        "\n",
        "##the ragex will try to match any value AT THE BEGINNING OF THE STRING that is NOT A!!!!\n",
        "\n",
        "re.findall(pattern, grades)\n",
        "\n",
        "#But there is no such pattern at the beginning of the text. Our text starts with an A!!!"
      ],
      "metadata": {
        "colab": {
          "base_uri": "https://localhost:8080/"
        },
        "id": "8A7PD5EVbfLf",
        "outputId": "6e92eeee-92c6-430d-81b6-4a1336d0daea"
      },
      "execution_count": 8,
      "outputs": [
        {
          "output_type": "execute_result",
          "data": {
            "text/plain": [
              "[]"
            ]
          },
          "metadata": {},
          "execution_count": 8
        }
      ]
    },
    {
      "cell_type": "code",
      "source": [
        "#But if we change the pattern like this.\n",
        "\n",
        "pattern = '^[^B]'\n",
        "\n",
        "re.findall(pattern, grades)\n",
        "\n",
        "#Voila!!!"
      ],
      "metadata": {
        "colab": {
          "base_uri": "https://localhost:8080/"
        },
        "id": "Xhhm2pJdb9MX",
        "outputId": "b5797961-795a-4b4f-ea5f-491009b53882"
      },
      "execution_count": 9,
      "outputs": [
        {
          "output_type": "execute_result",
          "data": {
            "text/plain": [
              "['A']"
            ]
          },
          "metadata": {},
          "execution_count": 9
        }
      ]
    },
    {
      "cell_type": "markdown",
      "source": [
        "Quantifiers"
      ],
      "metadata": {
        "id": "TYhxlt23faK7"
      }
    },
    {
      "cell_type": "code",
      "source": [
        "##Quantifiers are numbers of times you want a pattern to be matched inorder to match. \n",
        "##The most basic quantifiers is expressed as e{m,n} where e is the expression of character we are matching. \n",
        "##m is the minimum number of times you want it to match.\n",
        "##n is the maximum number of time it could be matched.\n",
        "\n",
        "##Let's use the grades.\n",
        "##How many times has the student been on a back-to-back A's streak?\n",
        "\n",
        "pattern = 'A{2,5}'\n",
        "\n",
        "print('The grades of the student: {}'. format(grades))\n",
        "\n",
        "re.findall(pattern, grades)"
      ],
      "metadata": {
        "colab": {
          "base_uri": "https://localhost:8080/"
        },
        "id": "G920oSPJfNJL",
        "outputId": "7efa11ed-b659-4437-cc7d-4e44a247c0b0"
      },
      "execution_count": 10,
      "outputs": [
        {
          "output_type": "stream",
          "name": "stdout",
          "text": [
            "The grades of the student: AAAAABBBAAABCCCCAACAB\n"
          ]
        },
        {
          "output_type": "execute_result",
          "data": {
            "text/plain": [
              "['AAAAA', 'AAA', 'AA']"
            ]
          },
          "metadata": {},
          "execution_count": 10
        }
      ]
    },
    {
      "cell_type": "code",
      "source": [
        "#what if we use a single value back to back?\n",
        "\n",
        "grades = 'AAAAAAABBBAAABCCCCAACAB'  ##changed grades a little bit\n",
        "\n",
        "pattern = 'A{1,1}A{1,1}'\n",
        "\n",
        "re.findall(pattern, grades)\n",
        "\n",
        "##the pattern is now trying to match just two A's back-to-back"
      ],
      "metadata": {
        "colab": {
          "base_uri": "https://localhost:8080/"
        },
        "id": "oVenwDnbhzQ3",
        "outputId": "2cc53fc4-41c0-4035-d38c-2b777c7b1bad"
      },
      "execution_count": 11,
      "outputs": [
        {
          "output_type": "execute_result",
          "data": {
            "text/plain": [
              "['AA', 'AA', 'AA', 'AA', 'AA']"
            ]
          },
          "metadata": {},
          "execution_count": 11
        }
      ]
    },
    {
      "cell_type": "code",
      "source": [
        "#Regex quantifier opeartor will not allow any extra spaces in between the curly braces, you'll get an empty result!!\n",
        "\n",
        "pattern = 'A{2, 4}'\n",
        "\n",
        "pattern = 'AA' ##represents the same pattern\n",
        "\n",
        "pattern = 'A{2}' ##also represents the same pattern. 2 will be considered as both m and n\n",
        "\n",
        "re.findall(pattern, grades)"
      ],
      "metadata": {
        "colab": {
          "base_uri": "https://localhost:8080/"
        },
        "id": "tmh0yvPGi5dd",
        "outputId": "579b4343-fc2b-48be-b097-409787585ab4"
      },
      "execution_count": 12,
      "outputs": [
        {
          "output_type": "execute_result",
          "data": {
            "text/plain": [
              "['AA', 'AA', 'AA', 'AA', 'AA']"
            ]
          },
          "metadata": {},
          "execution_count": 12
        }
      ]
    },
    {
      "cell_type": "code",
      "source": [
        "grades = 'AAAAAAABBBCCAAABCCCCAACAB'  ##changed grades again a little bit\n",
        "\n",
        "pattern = 'A{1,10}B{1,10}C{1,10}'\n",
        "\n",
        "print('The grades of the student: {}'. format(grades))\n",
        "\n",
        "re.findall(pattern, grades)"
      ],
      "metadata": {
        "colab": {
          "base_uri": "https://localhost:8080/"
        },
        "id": "xFq9of_3jRKF",
        "outputId": "d4efe1c0-3f3c-4d19-c0eb-1bb6c06dd084"
      },
      "execution_count": 13,
      "outputs": [
        {
          "output_type": "stream",
          "name": "stdout",
          "text": [
            "The grades of the student: AAAAAAABBBCCAAABCCCCAACAB\n"
          ]
        },
        {
          "output_type": "execute_result",
          "data": {
            "text/plain": [
              "['AAAAAAABBBCC', 'AAABCCCC']"
            ]
          },
          "metadata": {},
          "execution_count": 13
        }
      ]
    },
    {
      "cell_type": "markdown",
      "source": [
        "More Quantifiers"
      ],
      "metadata": {
        "id": "kit72LwMqX4W"
      }
    },
    {
      "cell_type": "code",
      "source": [
        "##Three other quntifiers\n",
        "\n",
        "##Asterix * is used to match 0 or more times \n",
        "\n",
        "##question marks ? to match one or more time\n",
        "\n",
        "##Plus sign + to match one or more time"
      ],
      "metadata": {
        "id": "QTmoqvuqqCGw"
      },
      "execution_count": 14,
      "outputs": []
    },
    {
      "cell_type": "markdown",
      "source": [
        "Scrape a Wiki Page"
      ],
      "metadata": {
        "id": "Dqv08mky4DBT"
      }
    },
    {
      "cell_type": "code",
      "source": [
        "import requests\n",
        "from bs4 import BeautifulSoup\n",
        "\n",
        "response = requests.get(\n",
        "\turl=\"https://en.wikipedia.org/wiki/Data_science\",\n",
        ")\n",
        "#print(response.status_code)\n",
        "\n",
        "soup = BeautifulSoup(response.content, 'html.parser')\n",
        "\n",
        "title = soup.findAll(\"h2\")[0]\n",
        "\n",
        "#print(soup.prettify())\n",
        "\n",
        "h = []\n",
        "\n",
        "pattern = '[a-zA-Z]{1,100}\\[edit\\]'\n",
        " \n",
        "headings = soup.find_all('h2')\n",
        "\n",
        "for i in range(len(headings)):\n",
        "\n",
        "  h.append(headings[i].get_text())\n",
        "\n",
        "for i,v in enumerate(h):\n",
        "\n",
        "  if re.findall(pattern,v):\n",
        "\n",
        "    continue\n",
        "\n",
        "  else:\n",
        "\n",
        "    h.pop(i)\n",
        "    \n",
        "h"
      ],
      "metadata": {
        "colab": {
          "base_uri": "https://localhost:8080/"
        },
        "id": "g-LPopEn3LaM",
        "outputId": "de1bfcc0-2f16-45cc-fb84-984b8c38b9a3"
      },
      "execution_count": 15,
      "outputs": [
        {
          "output_type": "execute_result",
          "data": {
            "text/plain": [
              "['Foundations[edit]',\n",
              " 'Etymology[edit]',\n",
              " 'Technologies and techniques[edit]',\n",
              " 'See also[edit]',\n",
              " 'References[edit]']"
            ]
          },
          "metadata": {},
          "execution_count": 15
        }
      ]
    },
    {
      "cell_type": "markdown",
      "source": [
        "Metacharacters"
      ],
      "metadata": {
        "id": "7eAHMi8MVzFm"
      }
    },
    {
      "cell_type": "code",
      "source": [
        "##\\w will match any letter or digits\n",
        "##\\s will match any withespace\n",
        "#these are metacharacters\n",
        "\n",
        "pattern = '[\\w]{1,100}\\[edit\\]'\n",
        "\n",
        "pattern = '[\\w]*\\[edit\\]'  ##asterik * will match any character any number of time \n",
        "\n",
        "\n",
        "split = '[\\[]'\n",
        "\n",
        "for i,v in enumerate(h):\n",
        "\n",
        "   print(re.split(split,v)[0])"
      ],
      "metadata": {
        "colab": {
          "base_uri": "https://localhost:8080/"
        },
        "id": "0q63u0lnVXVv",
        "outputId": "c231bb8e-8b18-4154-c18b-c7aa46d21365"
      },
      "execution_count": 16,
      "outputs": [
        {
          "output_type": "stream",
          "name": "stdout",
          "text": [
            "Foundations\n",
            "Etymology\n",
            "Technologies and techniques\n",
            "See also\n",
            "References\n"
          ]
        }
      ]
    },
    {
      "cell_type": "markdown",
      "source": [
        "Groups"
      ],
      "metadata": {
        "id": "KF-M5vfYGGxw"
      }
    },
    {
      "cell_type": "code",
      "source": [
        "##We can match different patterns, called groups, at the same time. \n",
        "\n",
        "pattern = '([\\w ]*)(\\[edit\\])'\n",
        "\n",
        "##there are two groups in these patterns.\n",
        "##each group is enclosed by a pair of parantheses.\n",
        "##first group is ([\\w ]*)\n",
        "##second group is (\\[edit\\])\n",
        "\n",
        "h_group = h.copy()\n",
        "\n",
        "for i,v in enumerate(h_group):\n",
        "\n",
        "  h_group[i] = re.findall(pattern,v)\n",
        "\n",
        "h_group"
      ],
      "metadata": {
        "colab": {
          "base_uri": "https://localhost:8080/"
        },
        "id": "IahZi6AbGGSF",
        "outputId": "ae98006b-c303-4f98-eb98-67d659d543b1"
      },
      "execution_count": 17,
      "outputs": [
        {
          "output_type": "execute_result",
          "data": {
            "text/plain": [
              "[[('Foundations', '[edit]')],\n",
              " [('Etymology', '[edit]')],\n",
              " [('Technologies and techniques', '[edit]')],\n",
              " [('See also', '[edit]')],\n",
              " [('References', '[edit]')]]"
            ]
          },
          "metadata": {},
          "execution_count": 17
        }
      ]
    },
    {
      "cell_type": "markdown",
      "source": [
        "Find Iter"
      ],
      "metadata": {
        "id": "qXAwXy9fIQrM"
      }
    },
    {
      "cell_type": "code",
      "source": [
        "##we have seen that findall() returns string\n",
        "##search() and match() returns individual match\n",
        "##but what if we need a list of match objects?\n",
        "\n",
        "h_iter = h.copy()\n",
        "\n",
        "pattern = '([\\w ]*)(\\[edit\\])'\n",
        "\n",
        "for i,v in enumerate(h_iter):\n",
        "\n",
        "  for item in re.finditer(pattern, v):\n",
        "\n",
        "    print(item.groups()[0])"
      ],
      "metadata": {
        "colab": {
          "base_uri": "https://localhost:8080/"
        },
        "id": "VOat3_jmIS_s",
        "outputId": "e9ee893a-f8f7-4597-e5f4-32930e30cd1b"
      },
      "execution_count": 18,
      "outputs": [
        {
          "output_type": "stream",
          "name": "stdout",
          "text": [
            "Foundations\n",
            "Etymology\n",
            "Technologies and techniques\n",
            "See also\n",
            "References\n"
          ]
        }
      ]
    },
    {
      "cell_type": "markdown",
      "source": [
        "Labeling or Naming the Groups"
      ],
      "metadata": {
        "id": "4QaJb2kyNUtp"
      }
    },
    {
      "cell_type": "code",
      "source": [
        "##previously, we have used the position of the group\n",
        "##but we can also name or label the group\n",
        "##and look them as a dictionary\n",
        "##(?P<name>)\n",
        "##the parentheses () starts the group\n",
        "##?P is a basic extension to regex\n",
        "##<name> is the dictionary we want to use wrapped in\n",
        "\n",
        "h_key = h.copy()\n",
        "\n",
        "pattern = '(?P<title>[\\w ]*)(?P<link>\\[edit\\])'\n",
        "\n",
        "for i,v in enumerate(h_iter):\n",
        "\n",
        "  for item in re.finditer(pattern, v):\n",
        "\n",
        "    print(item.groupdict()['title'])\n",
        "\n",
        "    print(item.groupdict()['link'])"
      ],
      "metadata": {
        "colab": {
          "base_uri": "https://localhost:8080/"
        },
        "id": "pavUaac7NYgm",
        "outputId": "c096017b-5b19-4ca9-eb64-2067e70861e5"
      },
      "execution_count": 19,
      "outputs": [
        {
          "output_type": "stream",
          "name": "stdout",
          "text": [
            "Foundations\n",
            "[edit]\n",
            "Etymology\n",
            "[edit]\n",
            "Technologies and techniques\n",
            "[edit]\n",
            "See also\n",
            "[edit]\n",
            "References\n",
            "[edit]\n"
          ]
        }
      ]
    },
    {
      "cell_type": "code",
      "source": [
        "##we can also print the whole dictionary for an item\n",
        "\n",
        "print(item.groupdict())"
      ],
      "metadata": {
        "colab": {
          "base_uri": "https://localhost:8080/"
        },
        "id": "SUZGuPK-6Q7S",
        "outputId": "f26e4ffb-0b58-49e6-b977-d108e110ef3d"
      },
      "execution_count": 20,
      "outputs": [
        {
          "output_type": "stream",
          "name": "stdout",
          "text": [
            "{'title': 'References', 'link': '[edit]'}\n"
          ]
        }
      ]
    },
    {
      "cell_type": "code",
      "source": [
        "## a . is for any single character which is not a newline\n",
        "##  a \\d for any digit\n",
        "## and \\s for any whitespace characters, like any space and tab"
      ],
      "metadata": {
        "id": "XbbdZQre6zGx"
      },
      "execution_count": 21,
      "outputs": []
    },
    {
      "cell_type": "markdown",
      "source": [
        "Look Ahead "
      ],
      "metadata": {
        "id": "cnymEHMg7MvH"
      }
    },
    {
      "cell_type": "code",
      "source": [
        "## pattern being given to regex engine is for text either before or after the text we are trying to isolate. \n",
        "## For example, in our header text, we want to isloate the text which comes before the [edit] rendering,\n",
        "## but we do not care about the [edit] itself \n",
        "##so, we are throwing them away.\n",
        "##but if we want to use them to match but don't want to capture them \n",
        "## we can use them in a GROUP and use LOOK AHEAD with ?= syntax in front of them\n",
        "\n",
        "##LOOK AHEAD!!!!\n",
        "\n",
        "h_look_ahead = h.copy()\n",
        "\n",
        "pattern = '(?P<title>[\\w ]*)(?=\\[edit\\])'\n",
        "\n",
        "for i,v in enumerate(h_look_ahead):\n",
        "\n",
        "  for item in re.finditer(pattern, v):\n",
        "\n",
        "    print(item.groupdict()['title'])"
      ],
      "metadata": {
        "colab": {
          "base_uri": "https://localhost:8080/"
        },
        "id": "vrKKMzwl7Pzd",
        "outputId": "97fde41d-9254-4a17-8e07-ad6145a32650"
      },
      "execution_count": 22,
      "outputs": [
        {
          "output_type": "stream",
          "name": "stdout",
          "text": [
            "Foundations\n",
            "\n",
            "Etymology\n",
            "\n",
            "Technologies and techniques\n",
            "\n",
            "See also\n",
            "\n",
            "References\n",
            "\n"
          ]
        }
      ]
    },
    {
      "cell_type": "markdown",
      "source": [
        "Verbose Mode of Python Regex"
      ],
      "metadata": {
        "id": "Tm4XtSoPFrFb"
      }
    },
    {
      "cell_type": "code",
      "source": [
        "buddhist = \"Dharmakirti College – located in Tucson, Arizona Now called Awam Tibetan Buddhist Institute\""
      ],
      "metadata": {
        "id": "0wV0ECk3Hh1j"
      },
      "execution_count": 23,
      "outputs": []
    },
    {
      "cell_type": "code",
      "source": [
        "pattern = \"\"\"\n",
        "(?P<College>.*)\n",
        "(\\s–\\ located\\ in\\s)         ##used the both \\s and just a space to indicate a spacce!!!!\n",
        "(?P<City>\\w*)\n",
        "(,\\ )\n",
        "(?P<State>\\w*)\"\"\"\n",
        "\n",
        "for item in re.finditer(pattern, buddhist, re.VERBOSE):\n",
        "\n",
        "  print(item.groupdict())"
      ],
      "metadata": {
        "colab": {
          "base_uri": "https://localhost:8080/"
        },
        "id": "jLc4wUEaIPPz",
        "outputId": "b9e375eb-feb7-4749-e943-f75a32e0c400"
      },
      "execution_count": 24,
      "outputs": [
        {
          "output_type": "stream",
          "name": "stdout",
          "text": [
            "{'College': 'Dharmakirti College', 'City': 'Tucson', 'State': 'Arizona'}\n"
          ]
        }
      ]
    },
    {
      "cell_type": "code",
      "source": [
        "twitter = \"\"\"532978629933010944|Thu Nov 13 19:29:42 +0000 2014|A hearty salad for the non-meat eaters at Thanksgiving  It's Vegetarian Thanksgiving Day #3! http://nyti.ms/1yD5obQ http://pbs.twimg.com/media/B2WFGxPIIAAF6TA.png\n",
        "532930080046350337|Thu Nov 13 16:16:47 +0000 2014|Well: When Patients Don’t Follow Up http://nyti.ms/111giNf\n",
        "532899726161887232|Thu Nov 13 14:16:10 +0000 2014|Well: Vegetarian Thanksgiving: Rice, Beet and Kale Salad With Cider Dressing http://nyti.ms/1upMx4w\n",
        "532839307351195648|Thu Nov 13 10:16:05 +0000 2014|The Innovations Issue: Why Are There So Few New Drugs Invented Today? http://nyti.ms/1v5Rf9Q\n",
        "532762475918524416|Thu Nov 13 05:10:47 +0000 2014|Web of Incentives in Fatal Indian Sterilizations http://nyti.ms/1uoE8hT\n",
        "532762474601529344|Thu Nov 13 05:10:46 +0000 2014|National Briefing | Southwest: Texas: Ebola Victim’s Family to Be Paid by Hospital http://nyti.ms/1wpKcn7\n",
        "532758683835719680|Thu Nov 13 04:55:43 +0000 2014|Researchers to Test New Treatments in Countries Hit Hardest by Ebola http://nyti.ms/1uoEbtY\n",
        "532758682594181120|Thu Nov 13 04:55:42 +0000 2014|Health Officials Reassess Strategy to Combat Ebola in Liberia http://nyti.ms/1wpKc6P\n",
        "532643505831956480|Wed Nov 12 21:18:02 +0000 2014|New Prediction Model Could Reduce Military Suicides, Study Finds http://nyti.ms/1oN1kpB\n",
        "532605326957506560|Wed Nov 12 18:46:19 +0000 2014|Well: Vegetarian Thanksgiving: Bread Salad Inspired by Stuffing http://nyti.ms/1oMcRoW\n",
        "532604927148036096|Wed Nov 12 18:44:44 +0000 2014|Delicious! A fall salad inspired by Tuscany and Thanksgiving stuffing. #VegetarianThanksgiving http://nyti.ms/1sErDdT http://pbs.twimg.com/media/B2QxAmDIEAAl6xe.png\n",
        "532595765265567744|Wed Nov 12 18:08:20 +0000 2014|Mali Reports a Second, Larger Ebola Outbreak http://nyti.ms/1yzIoKA\n",
        "532570040743505923|Wed Nov 12 16:26:07 +0000 2014|Well: Website Explores Sugar’s Effects on Health http://nyti.ms/1xhzl4n\n",
        "532406917457797121|Wed Nov 12 05:37:55 +0000 2014|Well: Exercising but Gaining Weight http://nyti.ms/1qDmlyv\n",
        "532364567016665088|Wed Nov 12 02:49:38 +0000 2014|11 Women Die After Botched Government Sterilizations in India http://nyti.ms/14bcA5U\n",
        "532344932623982592|Wed Nov 12 01:31:37 +0000 2014|World Briefing: Mali: New Ebola Case Is Confirmed as Response to First Was Wrapping Up http://nyti.ms/1szqcML\n",
        "532340547521118208|Wed Nov 12 01:14:11 +0000 2014|U.N. Seeks a More Nimble Response to Ebola in Africa http://nyti.ms/1szoZoL\n",
        "532340546187296768|Wed Nov 12 01:14:11 +0000 2014|Contributing Op-Ed Writer: Don’t Ask How to Feed the 9 Billion http://nyti.ms/1v0VTWe\n",
        "532278615501996034|Tue Nov 11 21:08:05 +0000 2014|States Race to Improve Health Exchanges as Open Enrollment Nears http://nyti.ms/1GMyNGk\n",
        "532269424955633664|Tue Nov 11 20:31:34 +0000 2014|Distracted Parenting: How an iPhone Can Lead to Broken Bones for Young Children http://nyti.ms/1tZ49ms\n",
        "532268443241037824|Tue Nov 11 20:27:40 +0000 2014|RT @paula_span: Lawsuits filed: Widowed spouses denied Soc Security benefits if their states won't recognize their same-sex marriages http:…\n",
        "532230137677639680|Tue Nov 11 17:55:27 +0000 2014|Well: Vegetarian Thanksgiving: Brussels Sprouts Sliders http://nyti.ms/1qCGeWq\n",
        "532225692369690624|Tue Nov 11 17:37:47 +0000 2014|With Phone Calls and Persistence, Tracking Travelers at Risk for Ebola http://nyti.ms/1qCF7G4\n",
        "532218072254648320|Tue Nov 11 17:07:31 +0000 2014|The New Old Age Blog: Spouses Denied Social Security Survivors’ Benefits http://nyti.ms/1qCBZKp\n",
        "532200095648059392|Tue Nov 11 15:56:05 +0000 2014|Craig Spencer, New York’s Ebola Patient, Is Cured http://nyti.ms/148Wslq\n",
        "532193843635298304|Tue Nov 11 15:31:14 +0000 2014|Affordable Care Act Enrollment FAQs http://nyti.ms/1szorQD\n",
        "532004391113740288|Tue Nov 11 02:58:25 +0000 2014|Open Source: Sierra Leone Defends Jailing Critic of Ebola Response http://nyti.ms/1uh74Z6\n",
        "531981427328688128|Tue Nov 11 01:27:10 +0000 2014|Medicare Proposes Paying for Lung Cancer Screenings for Older Longtime Smokers http://nyti.ms/1ugQgRZ\n",
        "531981424765984768|Tue Nov 11 01:27:10 +0000 2014|Estimate of Health Coverage Enrollment Leaves Room to Grow http://nyti.ms/1ys6UgE\n",
        "531977606217101312|Tue Nov 11 01:11:59 +0000 2014|V.A. Creates Plans to Consolidate Services http://nyti.ms/1ys65Vh\n",
        "531977604828790784|Tue Nov 11 01:11:59 +0000 2014|Op-Ed Contributor: Where Hell Is Other Patients http://nyti.ms/1ugPhBk\n",
        "531951630787563520|Mon Nov 10 23:28:46 +0000 2014|Reactions: After the Fall: Preventing Catastrophe http://nyti.ms/1wcjqP4\n",
        "531947820203659264|Mon Nov 10 23:13:38 +0000 2014|Well: Ask Well: Immune to Ebola? http://nyti.ms/1GJteIR\n",
        "531947818446258178|Mon Nov 10 23:13:37 +0000 2014|The Map Makers: Learning How Little We Know About the Brain http://nyti.ms/1wcjqyB\n",
        "531938724624728066|Mon Nov 10 22:37:29 +0000 2014|Craig Spencer, New York Doctor With Ebola, Will Leave Bellevue Hospital http://nyti.ms/1wc8Ibh\n",
        "531934284362579968|Mon Nov 10 22:19:50 +0000 2014|The Doctor's World: Like AIDS Before It, Ebola Isn't Explained Clearly by Officials http://nyti.ms/1wc6YyO\n",
        "531910931375484928|Mon Nov 10 20:47:03 +0000 2014|Well: What Our Sewage Can Teach Us http://nyti.ms/1wbLaTY\n",
        "531896098894651392|Mon Nov 10 19:48:06 +0000 2014|Science Bookshelf: Best Selling Science Books http://nyti.ms/1ElV21R\n",
        "531882304940306433|Mon Nov 10 18:53:18 +0000 2014|Global Health: A Rare Form of Malaria Is Spreading in Malaysia http://nyti.ms/1uWWbhp\n",
        "531863843493146625|Mon Nov 10 17:39:56 +0000 2014|DealBook: Dendreon, Maker of Prostate Cancer Drug Provenge, Files for Bankruptcy http://nyti.ms/1ElqqNU\n",
        "531844629805953024|Mon Nov 10 16:23:35 +0000 2014|The New Health Care: Shortage of Medicaid Doctors? Not if You Ask Patients http://nyti.ms/1uWqpkq\n",
        "531835652279922688|Mon Nov 10 15:47:55 +0000 2014|Quick Response and Old-Fashioned Detective Work Thwart Ebola in Mali http://nyti.ms/1uWijID\n",
        "531835650539290624|Mon Nov 10 15:47:54 +0000 2014|Well: Retesting Breast Cancer Axioms http://nyti.ms/1qAnJSo\n",
        "531771680075825152|Mon Nov 10 11:33:43 +0000 2014|Researchers Gather in India to Discuss Malnutrition’s Links to Sanitation http://nyti.ms/1EkdNTr\n",
        "531684296571236352|Mon Nov 10 05:46:29 +0000 2014|Ernie Vandeweghe, Knick and Physician, Dies at 86 http://nyti.ms/1wJyWpD\n",
        "531677453010604032|Mon Nov 10 05:19:17 +0000 2014|Detergent Pods Pose Risk to Children, Study Finds http://nyti.ms/1yosjHB\n",
        "531677450389180416|Mon Nov 10 05:19:16 +0000 2014|The Ebola Ward: Ebola’s Mystery: One Boy Lives, Another Dies http://nyti.ms/1yosjHK\n",
        "531609018129977345|Mon Nov 10 00:47:21 +0000 2014|Op-Ed Contributors: Making Chemistry Green http://nyti.ms/10IYxlQ\n",
        "531231191534682112|Sat Nov 08 23:46:00 +0000 2014|Needing to Hire, Chief of V.A. Tries to Sell Doctors on Change  http://nyti.ms/1uLTvCC\n",
        "530936229630849024|Sat Nov 08 04:13:56 +0000 2014|Montefiore’s New Bronx Medical Center Emphasizes Outpatient Care http://nyti.ms/1soSFWp\n",
        "530915686693212161|Sat Nov 08 02:52:18 +0000 2014|W.H.O. Issues New Guidelines on Safely Burying Ebola Victims http://nyti.ms/1pyyvO8\n",
        "530839316000677888|Fri Nov 07 21:48:50 +0000 2014|Well: Think Like a Doctor: Going Blind Solved! http://nyti.ms/1EbSsLO\n",
        "530830413200384001|Fri Nov 07 21:13:27 +0000 2014|Supreme Court Accepts New Challenge to Health Law http://nyti.ms/1133GGu\n",
        "530828692977893377|Fri Nov 07 21:06:37 +0000 2014|RT @paula_span: Older folks seeing things that aren't there. My post on something called Charles Bonnet Syndrome. http://newoldage.blogs.nytimes.com/2014/11/07/hello-green-man/\n",
        "530822335272869888|Fri Nov 07 20:41:21 +0000 2014|Q: Which might you breathe in gym air? 1) CO2 2) dust 3) formaldehyde A: See quiz by @camaldarelli  http://nyti.ms/10zsvZt\n",
        "530796518056677378|Fri Nov 07 18:58:46 +0000 2014|The New Old Age Blog: Hello, Green Man http://nyti.ms/1tITPyP\n",
        "530796515418472448|Fri Nov 07 18:58:45 +0000 2014|Genetically Modified Potato Is Approved by U.S.D.A. http://nyti.ms/1tQzZU5\n",
        "530750374022758400|Fri Nov 07 15:55:24 +0000 2014|Dallas Celebrates as Ebola Monitoring Nears an End http://nyti.ms/10yce6V\n",
        "530723931930755073|Fri Nov 07 14:10:20 +0000 2014|Well: A Low-Carb Switch for Mashed Potatoes http://nyti.ms/13Rcf8d\n",
        "530582661098913792|Fri Nov 07 04:48:58 +0000 2014|Veterans Affairs Chief Calls Culture Change Key to Improving System’s Health Care http://nyti.ms/1x8gJ6L\n",
        "530578370342703104|Fri Nov 07 04:31:55 +0000 2014|A Post-Election Day Certainty: New Scrutiny for the Affordable Care Act http://nyti.ms/1sctpl9\n",
        "530578368996335617|Fri Nov 07 04:31:55 +0000 2014|Q. and A. With Sheri Fink on Covering Ebola in Liberia http://nyti.ms/1sctpSf\n",
        "530386895046705153|Thu Nov 06 15:51:04 +0000 2014|RT @paula_span: Attention. Sympathy. Activism? What #BrittanyMaynard's death may mean for the national aid in dying movement. http://t.co/g…\n",
        "29697793141911554|Tue Nov 04 18:12:49 +0000 2014|RT @katiehafner: 2nd installment of falls series out: One woman's life upended by a stumble. http://nyti.ms/1EeK7ZR #FallPrevention @AARP @…\n",
        "525698138175463425|Fri Oct 24 17:19:37 +0000 2014|RT @nytgraphics: Timeline of what's known so far about NYC #Ebola patient http://nyti.ms/1D7j0xn http://pbs.twimg.com/media/B0und69IEAAKRfd.png\n",
        "525467084294471680|Fri Oct 24 02:01:30 +0000 2014|RT @cslnyt: First symptoms #ebola NYC patient experienced was this morning. He went on a 3-mile jog. Took subway too.\n",
        "524055617917292544|Mon Oct 20 04:32:50 +0000 2014|Making sense of the #EbolaHysteria http://nyti.ms/1Dr4CSH\n",
        "522811579239497729|Thu Oct 16 18:09:28 +0000 2014|RT @bcsolomon: My latest story &amp; short documentary for @nytimes: The brave and lonely men of the #Ebola ambulance teams in #Liberia http://…\n",
        "\"\"\""
      ],
      "metadata": {
        "id": "dgH96-DCaMEq"
      },
      "execution_count": 25,
      "outputs": []
    },
    {
      "cell_type": "markdown",
      "source": [
        "Look Ahead Look Behind"
      ],
      "metadata": {
        "id": "CGKaPf-R9R9d"
      }
    },
    {
      "cell_type": "code",
      "source": [
        "pattern = \"(?<=#)[\\w\\d']*(?=\\s)\"\n",
        "\n",
        "#finding out all the # tags\n",
        "\n",
        "##(?<=#) will look behind the # sign \n",
        "## (?=\\s) will look ahead the space \n",
        "\n",
        "re.findall(pattern, twitter)"
      ],
      "metadata": {
        "colab": {
          "base_uri": "https://localhost:8080/"
        },
        "id": "OYI4M1toaR0P",
        "outputId": "cba85efd-5008-45c2-8246-10bb05dd982a"
      },
      "execution_count": 26,
      "outputs": [
        {
          "output_type": "execute_result",
          "data": {
            "text/plain": [
              "['VegetarianThanksgiving',\n",
              " \"BrittanyMaynard's\",\n",
              " 'FallPrevention',\n",
              " 'Ebola',\n",
              " 'ebola',\n",
              " 'EbolaHysteria',\n",
              " 'Ebola',\n",
              " 'Liberia']"
            ]
          },
          "metadata": {},
          "execution_count": 26
        }
      ]
    },
    {
      "cell_type": "code",
      "source": [
        "##the verbose mode will allow you to write multi-line regex\n",
        "##and increase readability \n",
        "##for this mode we have to explicitly indicate all white spaces \n",
        "## either by prepending them with a \\ or by using \\s special value\n",
        "##so using verbos we can write our regex like code and \n",
        "##can even include comment with #\n",
        "\n",
        "def grades():\n",
        "\n",
        "        grades = \"\"\"Ronald Mayr: A\n",
        "                 Bell Kassulke: B\n",
        "                 Jacqueline Rupp: A \n",
        "                 Alexander Zeller: C\"\"\"\n",
        "        \n",
        "        for item in re.finditer('(?P<name>.*)(\\:\\s[B])', grades):\n",
        "\n",
        "          print(item.groupdict()['name'])\n",
        "\n",
        "grades()"
      ],
      "metadata": {
        "colab": {
          "base_uri": "https://localhost:8080/"
        },
        "id": "0f__kkoRFt9S",
        "outputId": "099a20d8-eb3a-437c-f5d2-009b9b73b1dc"
      },
      "execution_count": 27,
      "outputs": [
        {
          "output_type": "stream",
          "name": "stdout",
          "text": [
            "                 Bell Kassulke\n"
          ]
        }
      ]
    },
    {
      "cell_type": "markdown",
      "source": [
        "Look Behind"
      ],
      "metadata": {
        "id": "-cEn9-pv-G1A"
      }
    },
    {
      "cell_type": "code",
      "source": [
        "##count the total number of students who got B\n",
        "\n",
        "simple_string = \"\"\"Ronald Mayr: A\n",
        "Bell Kassulke: B\n",
        "Jacqueline Rupp: A \n",
        "Alexander Zeller: C\n",
        "Valentina Denk: C \n",
        "Simon Loidl: B \n",
        "Elias Jovanovic: B \n",
        "Stefanie Weninger: A \n",
        "Fabian Peer: C \n",
        "Hakim Botros: B\n",
        "Emilie Lorentsen: B\n",
        "Herman Karlsen: C\n",
        "Nathalie Delacruz: C\n",
        "Casey Hartman: C\n",
        "Lily Walker : A\n",
        "Gerard Wang: C\n",
        "Tony Mcdowell: C\n",
        "Jake Wood: B\n",
        "Fatemeh Akhtar: B\n",
        "Kim Weston: B\n",
        "Nicholas Beatty: A\n",
        "Kirsten Williams: C\n",
        "Vaishali Surana: C\n",
        "Coby Mccormack: C\n",
        "Yasmin Dar: B\n",
        "Romy Donnelly: A\n",
        "Viswamitra Upandhye: B\n",
        "Kendrick Hilpert: A\n",
        "Killian Kaufman: B\n",
        "Elwood Page: B\n",
        "Mukti Patel: A\n",
        "Emily Lesch: C\n",
        "Elodie Booker: B\n",
        "Jedd Kim: A\n",
        "Annabel Davies: A\n",
        "Adnan Chen: B\n",
        "Jonathan Berg: C\n",
        "Hank Spinka: B\n",
        "Agnes Schneider: C\n",
        "Kimberly Green: A\n",
        "Lola-Rose Coates: C\n",
        "Rose Christiansen: C\n",
        "Shirley Hintz: C\n",
        "Hannah Bayer: B\"\"\"\n",
        "\n",
        "len(re.findall('(?<=[ A-Za-z ])(\\: B)', simple_string))"
      ],
      "metadata": {
        "colab": {
          "base_uri": "https://localhost:8080/"
        },
        "id": "K4VZUu2i94Q9",
        "outputId": "857be810-ed57-44a5-92dc-9c968f6737b2"
      },
      "execution_count": 28,
      "outputs": [
        {
          "output_type": "execute_result",
          "data": {
            "text/plain": [
              "16"
            ]
          },
          "metadata": {},
          "execution_count": 28
        }
      ]
    }
  ]
}